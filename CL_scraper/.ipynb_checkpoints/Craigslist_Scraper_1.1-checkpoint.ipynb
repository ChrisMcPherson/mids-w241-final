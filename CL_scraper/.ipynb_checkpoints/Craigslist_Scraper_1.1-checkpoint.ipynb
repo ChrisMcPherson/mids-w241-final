{
 "cells": [
  {
   "cell_type": "markdown",
   "metadata": {},
   "source": [
    "# Craigslist Apartment Scraper\n",
    "\n",
    "The purpose of this script is to pull apartment listings, characteristics, prices, and reply emails from for rent ads on craigslist. We plan to use this information in order to run an experiment to test the impact of including exclamation points on response rates to inquiries sent."
   ]
  },
  {
   "cell_type": "code",
   "execution_count": 14,
   "metadata": {
    "collapsed": false
   },
   "outputs": [],
   "source": [
    "#Import modules\n",
    "import requests\n",
    "from bs4 import BeautifulSoup as bs4\n",
    "import pandas as pd\n",
    "import re\n",
    "import numpy as np"
   ]
  },
  {
   "cell_type": "markdown",
   "metadata": {},
   "source": [
    "## Function to query craigslist  \n",
    "\n",
    "This function will allow us to specify a price range, the number of bedrooms, and what craigslist site to query (e.g. Denver, SF, NYC, etc.)  \n",
    "\n",
    "Note that these queries only return a max of 100 results each. Thus, we will want to be specific about the price ranges and bedrooms that we specify so we can maximize the number of listings we are able to capture."
   ]
  },
  {
   "cell_type": "code",
   "execution_count": 2,
   "metadata": {
    "collapsed": true
   },
   "outputs": [],
   "source": [
    "#Define a function to fetch search results\n",
    "def fetch_search_results(query=None, minAsk=None, maxAsk=None, bedrooms=None, base_URL = None):\n",
    "    search_params = {key: val for key, val in locals().items() if val is not None}\n",
    "    if not search_params:\n",
    "        raise ValueError(\"No valid keywords\")\n",
    "    base = base_URL + '/search/apa'\n",
    "    resp = requests.get(base, params=search_params, timeout=3)\n",
    "    resp.raise_for_status()  # <- no-op if status==200\n",
    "    return resp.content, resp.encoding"
   ]
  },
  {
   "cell_type": "code",
   "execution_count": 3,
   "metadata": {
    "collapsed": false
   },
   "outputs": [],
   "source": [
    "#test the query function.\n",
    "test1, test2 = fetch_search_results(query = None, minAsk = 1000, maxAsk = 4000, bedrooms = 1, base_URL = 'https://denver.craigslist.org')"
   ]
  },
  {
   "cell_type": "markdown",
   "metadata": {},
   "source": [
    "## Function to get full URLs and apartment characteristics from query function output  \n",
    "\n",
    "This function will go through each of the listings found from our query and compile a dataset of URLs and apartment characteristics of all the results from the query. We will use the URLs to get the reply email addresses in a later step."
   ]
  },
  {
   "cell_type": "markdown",
   "metadata": {},
   "source": [
    "### Helper functions to get apartment characteristics from each query result"
   ]
  },
  {
   "cell_type": "code",
   "execution_count": 4,
   "metadata": {
    "collapsed": false
   },
   "outputs": [],
   "source": [
    "#get href - the relative link to the full apartment listing. These relative links are identified by <a> tags\n",
    "#and have the class 'result-title hdrlnk'.\n",
    "def get_href(result):\n",
    "    href = result.find('a', {'class' : 'result-title hdrlnk'})['href']\n",
    "    \n",
    "    if href is None:\n",
    "        href = np.nan\n",
    "    \n",
    "    return href"
   ]
  },
  {
   "cell_type": "code",
   "execution_count": 5,
   "metadata": {
    "collapsed": false
   },
   "outputs": [],
   "source": [
    "#get price - price can be located by <span> tags of class 'result-price'\n",
    "def get_price(result):\n",
    "    price = result.find('span', {'class' : 'result-price'})\n",
    "    \n",
    "    #convert price to float\n",
    "    if price is not None:\n",
    "        price = float(price.text.strip('$'))\n",
    "        \n",
    "    else:\n",
    "        price = np.nan\n",
    "    \n",
    "    return price"
   ]
  },
  {
   "cell_type": "code",
   "execution_count": 6,
   "metadata": {
    "collapsed": true
   },
   "outputs": [],
   "source": [
    "#get listing title which is identified by the text in the <a> tag with class 'result-title hdrlnk'\n",
    "def get_title(result):\n",
    "    title = result.find('a', {'class' : 'result-title hdrlnk'}).text\n",
    "    \n",
    "    if title is None:\n",
    "        title = np.nan\n",
    "        \n",
    "    return title\n"
   ]
  },
  {
   "cell_type": "code",
   "execution_count": 26,
   "metadata": {
    "collapsed": true
   },
   "outputs": [],
   "source": [
    "#get the time the listing was posted\n",
    "def get_posting_date(result):\n",
    "    posting_date = result.find('time', {'class' : 'result-date'})['datetime']\n",
    "    \n",
    "    if posting_date is None:\n",
    "        posting_date = np.nan\n",
    "        \n",
    "    return posting_date"
   ]
  },
  {
   "cell_type": "code",
   "execution_count": 27,
   "metadata": {
    "collapsed": false
   },
   "outputs": [],
   "source": [
    "#get bedrooms / sqft which is identified by the <span> tag of class 'housing'\n",
    "def get_bedrooms_sqft(result):\n",
    "    bedrooms_sqft = result.find('span', {'class' : 'housing'}).text.strip('\\n')\n",
    "    \n",
    "    if bedrooms_sqft is None:\n",
    "        price = np.nan\n",
    "    \n",
    "    return bedrooms_sqft\n",
    "\n",
    "#get bedrooms and square feet from the combined bedrooms / sqft tag\n",
    "def get_bedrooms_only(bdrms_sqft):\n",
    "    #compile regular expression matching the pattern that bedrooms follows\n",
    "    p = re.compile('\\d+br', re.IGNORECASE)\n",
    "    #get start and end of the number of bedrooms in the bedrooms / sqft combined string\n",
    "    m = p.match(bdrms_sqft)\n",
    "    start = m.start()\n",
    "    end = m.end()\n",
    "    #get the number of bedrooms\n",
    "    bedrooms = float(bdrms_sqft[start:end].strip('br'))\n",
    "    \n",
    "    return bedrooms\n",
    "\n",
    "#get the square feet from the bedrooms / sqft tag\n",
    "def get_sqft_only(bdrms_sqft):\n",
    "    #compile regular expression matching the pattern that bedrooms follows\n",
    "    p = re.compile('\\d+ft', re.IGNORECASE)\n",
    "    #get start and end of the number of bedrooms in the bedrooms / sqft combined string\n",
    "    m = p.match(bdrms_sqft)\n",
    "    start = m.start()\n",
    "    end = m.end()\n",
    "    #get the number of bedrooms\n",
    "    sqft = float(bdrms_sqft[start:end].strip('ft'))\n",
    "    \n",
    "    return sqft"
   ]
  },
  {
   "cell_type": "markdown",
   "metadata": {},
   "source": [
    "# LEFT OFF HERE. Square footage doesn't seem to work because of the \\n in the string"
   ]
  },
  {
   "cell_type": "code",
   "execution_count": 45,
   "metadata": {
    "collapsed": false
   },
   "outputs": [],
   "source": [
    "test = '1br -\\n 650ft2 -\\n'\n",
    "\n",
    "#get the number of bedrooms in the bedrooms / sqft combined string\n",
    "#compile the regex\n",
    "bedroom_p = re.compile(r'\\d+(?=br)', re.IGNORECASE)\n",
    "\n",
    "#get match in the bedroom / sqft string\n",
    "bedroom_m = bedroom_p.match(test)\n",
    "\n",
    "#get bedrooms\n",
    "n_bedrooms = test[bedroom_m.start(): bedroom_m.end()]\n",
    "\n",
    "\n"
   ]
  },
  {
   "cell_type": "code",
   "execution_count": 44,
   "metadata": {
    "collapsed": false
   },
   "outputs": [
    {
     "ename": "AttributeError",
     "evalue": "'NoneType' object has no attribute 'start'",
     "output_type": "error",
     "traceback": [
      "\u001b[0;31m---------------------------------------------------------------------------\u001b[0m",
      "\u001b[0;31mAttributeError\u001b[0m                            Traceback (most recent call last)",
      "\u001b[0;32m<ipython-input-44-278019473c89>\u001b[0m in \u001b[0;36m<module>\u001b[0;34m()\u001b[0m\n\u001b[1;32m      9\u001b[0m \u001b[0;34m\u001b[0m\u001b[0m\n\u001b[1;32m     10\u001b[0m \u001b[0;31m#get bedrooms\u001b[0m\u001b[0;34m\u001b[0m\u001b[0;34m\u001b[0m\u001b[0m\n\u001b[0;32m---> 11\u001b[0;31m \u001b[0msqft\u001b[0m \u001b[0;34m=\u001b[0m \u001b[0mtest\u001b[0m\u001b[0;34m[\u001b[0m\u001b[0msqft_m\u001b[0m\u001b[0;34m.\u001b[0m\u001b[0mstart\u001b[0m\u001b[0;34m(\u001b[0m\u001b[0;34m)\u001b[0m\u001b[0;34m:\u001b[0m \u001b[0msqft_m\u001b[0m\u001b[0;34m.\u001b[0m\u001b[0mend\u001b[0m\u001b[0;34m(\u001b[0m\u001b[0;34m)\u001b[0m\u001b[0;34m]\u001b[0m\u001b[0;34m\u001b[0m\u001b[0m\n\u001b[0m\u001b[1;32m     12\u001b[0m \u001b[0;34m\u001b[0m\u001b[0m\n\u001b[1;32m     13\u001b[0m \u001b[0;32mprint\u001b[0m \u001b[0msqft\u001b[0m\u001b[0;34m\u001b[0m\u001b[0m\n",
      "\u001b[0;31mAttributeError\u001b[0m: 'NoneType' object has no attribute 'start'"
     ]
    }
   ],
   "source": [
    "test = '1br -\\n 650ft2 -\\n'\n",
    "\n",
    "#get the square footage\n",
    "#compile the regex\n",
    "sqft_p = re.compile(r'\\d+(?=ft)', re.IGNORECASE)\n",
    "\n",
    "#get match in the bedroom / sqft string\n",
    "sqft_m = sqft_p.match(test)\n",
    "\n",
    "#get bedrooms\n",
    "sqft = test[sqft_m.start(): sqft_m.end()]\n",
    "\n",
    "print sqft\n",
    "\n"
   ]
  },
  {
   "cell_type": "markdown",
   "metadata": {},
   "source": [
    "### Function to compile all apartment characteristics"
   ]
  },
  {
   "cell_type": "code",
   "execution_count": 29,
   "metadata": {
    "collapsed": false
   },
   "outputs": [],
   "source": [
    "def compile_listing_URLs(query_result, base_URL):\n",
    "    #parse the results of the query\n",
    "    html = bs4(query_result, 'html.parser')\n",
    "\n",
    "    #get all individual apartments from the query\n",
    "    apt_results = html.find_all('p', attrs={'class' : 'result-info'})\n",
    "\n",
    "    #initialize a list to contain all of the URLs that resulted from the query\n",
    "    apts_results_df = pd.DataFrame(columns = ('base_URL', 'href', 'Listing_Title', 'Bedrooms_sqft', 'Price', 'Posting_Date'))\n",
    "   \n",
    "    #Looop through all of the tags containing the apartments and get the addresses of those individual results.\n",
    "    for apt in range(len(apt_results)):\n",
    "        #use helper functions to get characteristics\n",
    "        href = get_href(apt_results[apt])\n",
    "        title = get_title(apt_results[apt])\n",
    "        bedrooms_sqft = get_bedrooms_sqft(apt_results[apt])\n",
    "        price = get_price(apt_results[apt])\n",
    "        posting_date = get_posting_date(apt_results[apt])\n",
    "        #populate the result dataframe with the characteristics\n",
    "        apts_results_df.loc[apt] = [base_URL, href, title, bedrooms_sqft, price, posting_date]\n",
    "\n",
    "    #construct full URL for the listing\n",
    "    apts_results_df['full_URL'] = apts_results_df.apply(lambda row: row['base_URL'] + row['href'], axis = 1)\n",
    "    \n",
    "    #construct reply URL for the listing\n",
    "    apts_results_df['Reply_contact_info_link'] = apts_results_df.apply(lambda row: row['base_URL'] + '/reply/den' + row['href'].strip('.html'), axis = 1)\n",
    "    \n",
    "    #delete base URL and href columns\n",
    "    del apts_results_df['base_URL']\n",
    "    del apts_results_df['href']\n",
    "    \n",
    "    return apts_results_df"
   ]
  },
  {
   "cell_type": "code",
   "execution_count": 30,
   "metadata": {
    "collapsed": false
   },
   "outputs": [
    {
     "data": {
      "text/html": [
       "<div>\n",
       "<table border=\"1\" class=\"dataframe\">\n",
       "  <thead>\n",
       "    <tr style=\"text-align: right;\">\n",
       "      <th></th>\n",
       "      <th>Listing_Title</th>\n",
       "      <th>Bedrooms_sqft</th>\n",
       "      <th>Price</th>\n",
       "      <th>Posting_Date</th>\n",
       "      <th>full_URL</th>\n",
       "      <th>Reply_contact_info_link</th>\n",
       "    </tr>\n",
       "  </thead>\n",
       "  <tbody>\n",
       "    <tr>\n",
       "      <th>0</th>\n",
       "      <td>Business Center with WiFi, Walk-In Closets, Updater Moving Partner</td>\n",
       "      <td>1br -\\n</td>\n",
       "      <td>1110.0</td>\n",
       "      <td>2017-02-19 19:43</td>\n",
       "      <td>https://denver.craigslist.org/apa/6008376643.html</td>\n",
       "      <td>https://denver.craigslist.org/reply/den/apa/6008376643</td>\n",
       "    </tr>\n",
       "    <tr>\n",
       "      <th>1</th>\n",
       "      <td>FREE RENT ON GREAT APT.  NEAR DTC!  SECTION 8 HOUSING ACCEPTED!</td>\n",
       "      <td>1br -\\n                    815ft2 -\\n</td>\n",
       "      <td>1295.0</td>\n",
       "      <td>2017-02-19 19:41</td>\n",
       "      <td>https://denver.craigslist.org/apa/5988727059.html</td>\n",
       "      <td>https://denver.craigslist.org/reply/den/apa/5988727059</td>\n",
       "    </tr>\n",
       "    <tr>\n",
       "      <th>2</th>\n",
       "      <td>Vaulted Ceilings, Garden Tub, Oversized Windows</td>\n",
       "      <td>1br -\\n                    616ft2 -\\n</td>\n",
       "      <td>1096.0</td>\n",
       "      <td>2017-02-19 19:41</td>\n",
       "      <td>https://denver.craigslist.org/apa/6004776726.html</td>\n",
       "      <td>https://denver.craigslist.org/reply/den/apa/6004776726</td>\n",
       "    </tr>\n",
       "    <tr>\n",
       "      <th>3</th>\n",
       "      <td>Range, Cable/Satallite, Window Covering</td>\n",
       "      <td>1br -\\n                    680ft2 -\\n</td>\n",
       "      <td>1095.0</td>\n",
       "      <td>2017-02-19 19:37</td>\n",
       "      <td>https://denver.craigslist.org/apa/5984825290.html</td>\n",
       "      <td>https://denver.craigslist.org/reply/den/apa/5984825290</td>\n",
       "    </tr>\n",
       "    <tr>\n",
       "      <th>4</th>\n",
       "      <td>1br/1ba Apartment in Cheesman Park</td>\n",
       "      <td>1br -\\n                    1000ft2 -\\n</td>\n",
       "      <td>1370.0</td>\n",
       "      <td>2017-02-19 19:35</td>\n",
       "      <td>https://denver.craigslist.org/apa/6003981553.html</td>\n",
       "      <td>https://denver.craigslist.org/reply/den/apa/6003981553</td>\n",
       "    </tr>\n",
       "  </tbody>\n",
       "</table>\n",
       "</div>"
      ],
      "text/plain": [
       "                                                        Listing_Title  \\\n",
       "0  Business Center with WiFi, Walk-In Closets, Updater Moving Partner   \n",
       "1     FREE RENT ON GREAT APT.  NEAR DTC!  SECTION 8 HOUSING ACCEPTED!   \n",
       "2                     Vaulted Ceilings, Garden Tub, Oversized Windows   \n",
       "3                             Range, Cable/Satallite, Window Covering   \n",
       "4                                  1br/1ba Apartment in Cheesman Park   \n",
       "\n",
       "                                                                Bedrooms_sqft  \\\n",
       "0                                                     1br -\\n                   \n",
       "1                       1br -\\n                    815ft2 -\\n                   \n",
       "2                       1br -\\n                    616ft2 -\\n                   \n",
       "3                       1br -\\n                    680ft2 -\\n                   \n",
       "4                      1br -\\n                    1000ft2 -\\n                   \n",
       "\n",
       "    Price      Posting_Date  \\\n",
       "0  1110.0  2017-02-19 19:43   \n",
       "1  1295.0  2017-02-19 19:41   \n",
       "2  1096.0  2017-02-19 19:41   \n",
       "3  1095.0  2017-02-19 19:37   \n",
       "4  1370.0  2017-02-19 19:35   \n",
       "\n",
       "                                            full_URL  \\\n",
       "0  https://denver.craigslist.org/apa/6008376643.html   \n",
       "1  https://denver.craigslist.org/apa/5988727059.html   \n",
       "2  https://denver.craigslist.org/apa/6004776726.html   \n",
       "3  https://denver.craigslist.org/apa/5984825290.html   \n",
       "4  https://denver.craigslist.org/apa/6003981553.html   \n",
       "\n",
       "                                  Reply_contact_info_link  \n",
       "0  https://denver.craigslist.org/reply/den/apa/6008376643  \n",
       "1  https://denver.craigslist.org/reply/den/apa/5988727059  \n",
       "2  https://denver.craigslist.org/reply/den/apa/6004776726  \n",
       "3  https://denver.craigslist.org/reply/den/apa/5984825290  \n",
       "4  https://denver.craigslist.org/reply/den/apa/6003981553  "
      ]
     },
     "execution_count": 30,
     "metadata": {},
     "output_type": "execute_result"
    }
   ],
   "source": [
    "#test the compiler function\n",
    "test_compiled_URLs = compile_listing_URLs(query_result = test1, base_URL = 'https://denver.craigslist.org')\n",
    "\n",
    "test_compiled_URLs.head()\n",
    "\n",
    "pd.set_option('display.max_colwidth',1000)\n",
    "\n",
    "test_compiled_URLs.head()"
   ]
  },
  {
   "cell_type": "markdown",
   "metadata": {},
   "source": [
    "# Notes  \n",
    "\n",
    "Craigslist started giving me captcha dialog boxes to view the reply email addresses, so we may have to pull reply email addresses by hand."
   ]
  },
  {
   "cell_type": "code",
   "execution_count": null,
   "metadata": {
    "collapsed": true
   },
   "outputs": [],
   "source": []
  }
 ],
 "metadata": {
  "anaconda-cloud": {},
  "kernelspec": {
   "display_name": "Python [conda env:Machine_learning_python2]",
   "language": "python",
   "name": "conda-env-Machine_learning_python2-py"
  },
  "language_info": {
   "codemirror_mode": {
    "name": "ipython",
    "version": 2
   },
   "file_extension": ".py",
   "mimetype": "text/x-python",
   "name": "python",
   "nbconvert_exporter": "python",
   "pygments_lexer": "ipython2",
   "version": "2.7.13"
  }
 },
 "nbformat": 4,
 "nbformat_minor": 1
}
